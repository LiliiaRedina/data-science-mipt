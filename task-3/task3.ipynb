{
 "cells": [
  {
   "cell_type": "markdown",
   "metadata": {},
   "source": [
    "# <a href=\"https://mipt-stats.gitlab.io/courses/ad_fivt.html\">Введение в анализ данных</a>\n",
    "## Домашнее задание 3. Сбор и анализ данных."
   ]
  },
  {
   "cell_type": "markdown",
   "metadata": {},
   "source": [
    "**Правила, <font color=\"red\">прочитайте внимательно</font>:**\n",
    "\n",
    "* Выполненную работу нужно отправить телеграм-боту `@miptstats_ds22_bot`. Для начала работы с ботом каждый раз отправляйте `/start`. Работы, присланные иным способом, не принимаются.\n",
    "* Дедлайн см. в боте. После дедлайна работы не принимаются кроме случаев наличия уважительной причины.\n",
    "* Прислать нужно ноутбук в формате ipynb.\n",
    "* Телеграм не разрешает боту получать файлы более **20 Мб**. Если ваше решение весит больше, *заранее* разделите ноутбук на несколько.\n",
    "* Будьте внимательны при работе со сбором данных. Ответственность за корректность ваших действий лежит на вас. Не нагружайте сервера, *делайте паузы между запросами*. Как следствие, начинайте выполнять задание заранее. **Если вас где-то забаннили и т.п., то это не является уважительной причиной продления дедлайна.**\n",
    "* Выполнять задание необходимо полностью самостоятельно. **При обнаружении списывания все участники списывания будут сдавать устный зачет.**\n",
    "* Решения, размещенные на каких-либо интернет-ресурсах, не принимаются. Кроме того, публикация решения в открытом доступе может быть приравнена к предоставлении возможности списать.\n",
    "* Для выполнения задания используйте этот ноутбук в качестве основы, ничего не удаляя из него. Можно добавлять необходимое количество ячеек.\n",
    "* Комментарии к решению пишите в markdown-ячейках.\n",
    "* Выполнение задания (ход решения, выводы и пр.) должно быть осуществлено на русском языке.\n",
    "* Если код будет не понятен проверяющему, оценка может быть снижена.\n",
    "* Никакой код из данного задания при проверке запускаться не будет. *Если код студента не выполнен, недописан и т.д., то он не оценивается.*\n",
    "\n",
    "**Перед выполнением задания посмотрите презентацию по выполнению и оформлению домашних заданий с занятия 2.**\n",
    "\n",
    "---\n",
    "\n",
    "**Баллы за задание:**\n",
    "\n",
    "<b><font color=\"blue\">Легкая часть</font></b> (достаточно на \"хор\"):\n",
    "* Задача 1 &mdash; 50 баллов\n",
    "\n",
    "<b><font color=\"orange\">Сложная часть</font></b> (необходимо на \"отл\"):\n",
    "* Задача 2 &mdash; 80 баллов\n",
    "* Задача 3 &mdash; 100 баллов\n",
    "\n",
    "---"
   ]
  },
  {
   "cell_type": "code",
   "execution_count": 18,
   "metadata": {
    "colab": {},
    "colab_type": "code",
    "id": "ht9Xm0EucoAr"
   },
   "outputs": [],
   "source": [
    "import numpy as np\n",
    "import pandas as pd\n",
    "import matplotlib.pyplot as plt\n",
    "import seaborn as sns\n",
    "\n",
    "sns.set(style='whitegrid', font_scale=1.3, palette='Set2')\n",
    "%matplotlib inline"
   ]
  },
  {
   "cell_type": "markdown",
   "metadata": {},
   "source": [
    "### <font color=\"blue\"><i>Легкая часть</i></font>\n",
    "\n",
    "\n",
    "### Задача 1."
   ]
  },
  {
   "cell_type": "markdown",
   "metadata": {},
   "source": [
    "На занятии мы уже <a href=\"https://mipt-stats.gitlab.io/courses/ad_fivt/titanik.html\" target=\"_blank\">начинали</a> работать с датасетом Титаник. Сейчас ваша задача &mdash; на основе простого анализа предоставленных данных получить некоторое приближенное правило определения, выжил пассажир или нет.\n",
    "\n",
    "#### 1. Подготовка данных\n",
    "\n",
    "Загрузите данные с помощью `pandas`."
   ]
  },
  {
   "cell_type": "code",
   "execution_count": 19,
   "metadata": {},
   "outputs": [
    {
     "data": {
      "text/html": [
       "<div>\n",
       "<style scoped>\n",
       "    .dataframe tbody tr th:only-of-type {\n",
       "        vertical-align: middle;\n",
       "    }\n",
       "\n",
       "    .dataframe tbody tr th {\n",
       "        vertical-align: top;\n",
       "    }\n",
       "\n",
       "    .dataframe thead th {\n",
       "        text-align: right;\n",
       "    }\n",
       "</style>\n",
       "<table border=\"1\" class=\"dataframe\">\n",
       "  <thead>\n",
       "    <tr style=\"text-align: right;\">\n",
       "      <th></th>\n",
       "      <th>Survived</th>\n",
       "      <th>Pclass</th>\n",
       "      <th>Name</th>\n",
       "      <th>Sex</th>\n",
       "      <th>Age</th>\n",
       "      <th>SibSp</th>\n",
       "      <th>Parch</th>\n",
       "      <th>Ticket</th>\n",
       "      <th>Fare</th>\n",
       "      <th>Cabin</th>\n",
       "      <th>Embarked</th>\n",
       "    </tr>\n",
       "    <tr>\n",
       "      <th>PassengerId</th>\n",
       "      <th></th>\n",
       "      <th></th>\n",
       "      <th></th>\n",
       "      <th></th>\n",
       "      <th></th>\n",
       "      <th></th>\n",
       "      <th></th>\n",
       "      <th></th>\n",
       "      <th></th>\n",
       "      <th></th>\n",
       "      <th></th>\n",
       "    </tr>\n",
       "  </thead>\n",
       "  <tbody>\n",
       "    <tr>\n",
       "      <th>1</th>\n",
       "      <td>0</td>\n",
       "      <td>3</td>\n",
       "      <td>Braund, Mr. Owen Harris</td>\n",
       "      <td>male</td>\n",
       "      <td>22.0</td>\n",
       "      <td>1</td>\n",
       "      <td>0</td>\n",
       "      <td>A/5 21171</td>\n",
       "      <td>7.2500</td>\n",
       "      <td>NaN</td>\n",
       "      <td>S</td>\n",
       "    </tr>\n",
       "    <tr>\n",
       "      <th>2</th>\n",
       "      <td>1</td>\n",
       "      <td>1</td>\n",
       "      <td>Cumings, Mrs. John Bradley (Florence Briggs Th...</td>\n",
       "      <td>female</td>\n",
       "      <td>38.0</td>\n",
       "      <td>1</td>\n",
       "      <td>0</td>\n",
       "      <td>PC 17599</td>\n",
       "      <td>71.2833</td>\n",
       "      <td>C85</td>\n",
       "      <td>C</td>\n",
       "    </tr>\n",
       "    <tr>\n",
       "      <th>3</th>\n",
       "      <td>1</td>\n",
       "      <td>3</td>\n",
       "      <td>Heikkinen, Miss. Laina</td>\n",
       "      <td>female</td>\n",
       "      <td>26.0</td>\n",
       "      <td>0</td>\n",
       "      <td>0</td>\n",
       "      <td>STON/O2. 3101282</td>\n",
       "      <td>7.9250</td>\n",
       "      <td>NaN</td>\n",
       "      <td>S</td>\n",
       "    </tr>\n",
       "    <tr>\n",
       "      <th>4</th>\n",
       "      <td>1</td>\n",
       "      <td>1</td>\n",
       "      <td>Futrelle, Mrs. Jacques Heath (Lily May Peel)</td>\n",
       "      <td>female</td>\n",
       "      <td>35.0</td>\n",
       "      <td>1</td>\n",
       "      <td>0</td>\n",
       "      <td>113803</td>\n",
       "      <td>53.1000</td>\n",
       "      <td>C123</td>\n",
       "      <td>S</td>\n",
       "    </tr>\n",
       "    <tr>\n",
       "      <th>5</th>\n",
       "      <td>0</td>\n",
       "      <td>3</td>\n",
       "      <td>Allen, Mr. William Henry</td>\n",
       "      <td>male</td>\n",
       "      <td>35.0</td>\n",
       "      <td>0</td>\n",
       "      <td>0</td>\n",
       "      <td>373450</td>\n",
       "      <td>8.0500</td>\n",
       "      <td>NaN</td>\n",
       "      <td>S</td>\n",
       "    </tr>\n",
       "    <tr>\n",
       "      <th>...</th>\n",
       "      <td>...</td>\n",
       "      <td>...</td>\n",
       "      <td>...</td>\n",
       "      <td>...</td>\n",
       "      <td>...</td>\n",
       "      <td>...</td>\n",
       "      <td>...</td>\n",
       "      <td>...</td>\n",
       "      <td>...</td>\n",
       "      <td>...</td>\n",
       "      <td>...</td>\n",
       "    </tr>\n",
       "    <tr>\n",
       "      <th>887</th>\n",
       "      <td>0</td>\n",
       "      <td>2</td>\n",
       "      <td>Montvila, Rev. Juozas</td>\n",
       "      <td>male</td>\n",
       "      <td>27.0</td>\n",
       "      <td>0</td>\n",
       "      <td>0</td>\n",
       "      <td>211536</td>\n",
       "      <td>13.0000</td>\n",
       "      <td>NaN</td>\n",
       "      <td>S</td>\n",
       "    </tr>\n",
       "    <tr>\n",
       "      <th>888</th>\n",
       "      <td>1</td>\n",
       "      <td>1</td>\n",
       "      <td>Graham, Miss. Margaret Edith</td>\n",
       "      <td>female</td>\n",
       "      <td>19.0</td>\n",
       "      <td>0</td>\n",
       "      <td>0</td>\n",
       "      <td>112053</td>\n",
       "      <td>30.0000</td>\n",
       "      <td>B42</td>\n",
       "      <td>S</td>\n",
       "    </tr>\n",
       "    <tr>\n",
       "      <th>889</th>\n",
       "      <td>0</td>\n",
       "      <td>3</td>\n",
       "      <td>Johnston, Miss. Catherine Helen \"Carrie\"</td>\n",
       "      <td>female</td>\n",
       "      <td>NaN</td>\n",
       "      <td>1</td>\n",
       "      <td>2</td>\n",
       "      <td>W./C. 6607</td>\n",
       "      <td>23.4500</td>\n",
       "      <td>NaN</td>\n",
       "      <td>S</td>\n",
       "    </tr>\n",
       "    <tr>\n",
       "      <th>890</th>\n",
       "      <td>1</td>\n",
       "      <td>1</td>\n",
       "      <td>Behr, Mr. Karl Howell</td>\n",
       "      <td>male</td>\n",
       "      <td>26.0</td>\n",
       "      <td>0</td>\n",
       "      <td>0</td>\n",
       "      <td>111369</td>\n",
       "      <td>30.0000</td>\n",
       "      <td>C148</td>\n",
       "      <td>C</td>\n",
       "    </tr>\n",
       "    <tr>\n",
       "      <th>891</th>\n",
       "      <td>0</td>\n",
       "      <td>3</td>\n",
       "      <td>Dooley, Mr. Patrick</td>\n",
       "      <td>male</td>\n",
       "      <td>32.0</td>\n",
       "      <td>0</td>\n",
       "      <td>0</td>\n",
       "      <td>370376</td>\n",
       "      <td>7.7500</td>\n",
       "      <td>NaN</td>\n",
       "      <td>Q</td>\n",
       "    </tr>\n",
       "  </tbody>\n",
       "</table>\n",
       "<p>891 rows × 11 columns</p>\n",
       "</div>"
      ],
      "text/plain": [
       "             Survived  Pclass  \\\n",
       "PassengerId                     \n",
       "1                   0       3   \n",
       "2                   1       1   \n",
       "3                   1       3   \n",
       "4                   1       1   \n",
       "5                   0       3   \n",
       "...               ...     ...   \n",
       "887                 0       2   \n",
       "888                 1       1   \n",
       "889                 0       3   \n",
       "890                 1       1   \n",
       "891                 0       3   \n",
       "\n",
       "                                                          Name     Sex   Age  \\\n",
       "PassengerId                                                                    \n",
       "1                                      Braund, Mr. Owen Harris    male  22.0   \n",
       "2            Cumings, Mrs. John Bradley (Florence Briggs Th...  female  38.0   \n",
       "3                                       Heikkinen, Miss. Laina  female  26.0   \n",
       "4                 Futrelle, Mrs. Jacques Heath (Lily May Peel)  female  35.0   \n",
       "5                                     Allen, Mr. William Henry    male  35.0   \n",
       "...                                                        ...     ...   ...   \n",
       "887                                      Montvila, Rev. Juozas    male  27.0   \n",
       "888                               Graham, Miss. Margaret Edith  female  19.0   \n",
       "889                   Johnston, Miss. Catherine Helen \"Carrie\"  female   NaN   \n",
       "890                                      Behr, Mr. Karl Howell    male  26.0   \n",
       "891                                        Dooley, Mr. Patrick    male  32.0   \n",
       "\n",
       "             SibSp  Parch            Ticket     Fare Cabin Embarked  \n",
       "PassengerId                                                          \n",
       "1                1      0         A/5 21171   7.2500   NaN        S  \n",
       "2                1      0          PC 17599  71.2833   C85        C  \n",
       "3                0      0  STON/O2. 3101282   7.9250   NaN        S  \n",
       "4                1      0            113803  53.1000  C123        S  \n",
       "5                0      0            373450   8.0500   NaN        S  \n",
       "...            ...    ...               ...      ...   ...      ...  \n",
       "887              0      0            211536  13.0000   NaN        S  \n",
       "888              0      0            112053  30.0000   B42        S  \n",
       "889              1      2        W./C. 6607  23.4500   NaN        S  \n",
       "890              0      0            111369  30.0000  C148        C  \n",
       "891              0      0            370376   7.7500   NaN        Q  \n",
       "\n",
       "[891 rows x 11 columns]"
      ]
     },
     "execution_count": 19,
     "metadata": {},
     "output_type": "execute_result"
    }
   ],
   "source": [
    "data = pd.read_csv('titanik.csv', index_col=0)\n",
    "data"
   ]
  },
  {
   "cell_type": "markdown",
   "metadata": {},
   "source": [
    "Разделите данные по строкам на две части случайным образом в соотношении 7:3. Первую часть мы будем называть *обучающей*, а вторую &mdash; *тестовой*."
   ]
  },
  {
   "cell_type": "code",
   "execution_count": 20,
   "metadata": {},
   "outputs": [
    {
     "data": {
      "text/html": [
       "<div>\n",
       "<style scoped>\n",
       "    .dataframe tbody tr th:only-of-type {\n",
       "        vertical-align: middle;\n",
       "    }\n",
       "\n",
       "    .dataframe tbody tr th {\n",
       "        vertical-align: top;\n",
       "    }\n",
       "\n",
       "    .dataframe thead th {\n",
       "        text-align: right;\n",
       "    }\n",
       "</style>\n",
       "<table border=\"1\" class=\"dataframe\">\n",
       "  <thead>\n",
       "    <tr style=\"text-align: right;\">\n",
       "      <th></th>\n",
       "      <th>Survived</th>\n",
       "      <th>Pclass</th>\n",
       "      <th>Name</th>\n",
       "      <th>Sex</th>\n",
       "      <th>Age</th>\n",
       "      <th>SibSp</th>\n",
       "      <th>Parch</th>\n",
       "      <th>Ticket</th>\n",
       "      <th>Fare</th>\n",
       "      <th>Cabin</th>\n",
       "      <th>Embarked</th>\n",
       "    </tr>\n",
       "    <tr>\n",
       "      <th>PassengerId</th>\n",
       "      <th></th>\n",
       "      <th></th>\n",
       "      <th></th>\n",
       "      <th></th>\n",
       "      <th></th>\n",
       "      <th></th>\n",
       "      <th></th>\n",
       "      <th></th>\n",
       "      <th></th>\n",
       "      <th></th>\n",
       "      <th></th>\n",
       "    </tr>\n",
       "  </thead>\n",
       "  <tbody>\n",
       "    <tr>\n",
       "      <th>863</th>\n",
       "      <td>1</td>\n",
       "      <td>1</td>\n",
       "      <td>Swift, Mrs. Frederick Joel (Margaret Welles Ba...</td>\n",
       "      <td>female</td>\n",
       "      <td>48.0</td>\n",
       "      <td>0</td>\n",
       "      <td>0</td>\n",
       "      <td>17466</td>\n",
       "      <td>25.9292</td>\n",
       "      <td>D17</td>\n",
       "      <td>S</td>\n",
       "    </tr>\n",
       "    <tr>\n",
       "      <th>224</th>\n",
       "      <td>0</td>\n",
       "      <td>3</td>\n",
       "      <td>Nenkoff, Mr. Christo</td>\n",
       "      <td>male</td>\n",
       "      <td>NaN</td>\n",
       "      <td>0</td>\n",
       "      <td>0</td>\n",
       "      <td>349234</td>\n",
       "      <td>7.8958</td>\n",
       "      <td>NaN</td>\n",
       "      <td>S</td>\n",
       "    </tr>\n",
       "    <tr>\n",
       "      <th>85</th>\n",
       "      <td>1</td>\n",
       "      <td>2</td>\n",
       "      <td>Ilett, Miss. Bertha</td>\n",
       "      <td>female</td>\n",
       "      <td>17.0</td>\n",
       "      <td>0</td>\n",
       "      <td>0</td>\n",
       "      <td>SO/C 14885</td>\n",
       "      <td>10.5000</td>\n",
       "      <td>NaN</td>\n",
       "      <td>S</td>\n",
       "    </tr>\n",
       "    <tr>\n",
       "      <th>681</th>\n",
       "      <td>0</td>\n",
       "      <td>3</td>\n",
       "      <td>Peters, Miss. Katie</td>\n",
       "      <td>female</td>\n",
       "      <td>NaN</td>\n",
       "      <td>0</td>\n",
       "      <td>0</td>\n",
       "      <td>330935</td>\n",
       "      <td>8.1375</td>\n",
       "      <td>NaN</td>\n",
       "      <td>Q</td>\n",
       "    </tr>\n",
       "    <tr>\n",
       "      <th>536</th>\n",
       "      <td>1</td>\n",
       "      <td>2</td>\n",
       "      <td>Hart, Miss. Eva Miriam</td>\n",
       "      <td>female</td>\n",
       "      <td>7.0</td>\n",
       "      <td>0</td>\n",
       "      <td>2</td>\n",
       "      <td>F.C.C. 13529</td>\n",
       "      <td>26.2500</td>\n",
       "      <td>NaN</td>\n",
       "      <td>S</td>\n",
       "    </tr>\n",
       "    <tr>\n",
       "      <th>...</th>\n",
       "      <td>...</td>\n",
       "      <td>...</td>\n",
       "      <td>...</td>\n",
       "      <td>...</td>\n",
       "      <td>...</td>\n",
       "      <td>...</td>\n",
       "      <td>...</td>\n",
       "      <td>...</td>\n",
       "      <td>...</td>\n",
       "      <td>...</td>\n",
       "      <td>...</td>\n",
       "    </tr>\n",
       "    <tr>\n",
       "      <th>676</th>\n",
       "      <td>0</td>\n",
       "      <td>3</td>\n",
       "      <td>Edvardsson, Mr. Gustaf Hjalmar</td>\n",
       "      <td>male</td>\n",
       "      <td>18.0</td>\n",
       "      <td>0</td>\n",
       "      <td>0</td>\n",
       "      <td>349912</td>\n",
       "      <td>7.7750</td>\n",
       "      <td>NaN</td>\n",
       "      <td>S</td>\n",
       "    </tr>\n",
       "    <tr>\n",
       "      <th>241</th>\n",
       "      <td>0</td>\n",
       "      <td>3</td>\n",
       "      <td>Zabour, Miss. Thamine</td>\n",
       "      <td>female</td>\n",
       "      <td>NaN</td>\n",
       "      <td>1</td>\n",
       "      <td>0</td>\n",
       "      <td>2665</td>\n",
       "      <td>14.4542</td>\n",
       "      <td>NaN</td>\n",
       "      <td>C</td>\n",
       "    </tr>\n",
       "    <tr>\n",
       "      <th>231</th>\n",
       "      <td>1</td>\n",
       "      <td>1</td>\n",
       "      <td>Harris, Mrs. Henry Birkhardt (Irene Wallach)</td>\n",
       "      <td>female</td>\n",
       "      <td>35.0</td>\n",
       "      <td>1</td>\n",
       "      <td>0</td>\n",
       "      <td>36973</td>\n",
       "      <td>83.4750</td>\n",
       "      <td>C83</td>\n",
       "      <td>S</td>\n",
       "    </tr>\n",
       "    <tr>\n",
       "      <th>327</th>\n",
       "      <td>0</td>\n",
       "      <td>3</td>\n",
       "      <td>Nysveen, Mr. Johan Hansen</td>\n",
       "      <td>male</td>\n",
       "      <td>61.0</td>\n",
       "      <td>0</td>\n",
       "      <td>0</td>\n",
       "      <td>345364</td>\n",
       "      <td>6.2375</td>\n",
       "      <td>NaN</td>\n",
       "      <td>S</td>\n",
       "    </tr>\n",
       "    <tr>\n",
       "      <th>459</th>\n",
       "      <td>1</td>\n",
       "      <td>2</td>\n",
       "      <td>Toomey, Miss. Ellen</td>\n",
       "      <td>female</td>\n",
       "      <td>50.0</td>\n",
       "      <td>0</td>\n",
       "      <td>0</td>\n",
       "      <td>F.C.C. 13531</td>\n",
       "      <td>10.5000</td>\n",
       "      <td>NaN</td>\n",
       "      <td>S</td>\n",
       "    </tr>\n",
       "  </tbody>\n",
       "</table>\n",
       "<p>624 rows × 11 columns</p>\n",
       "</div>"
      ],
      "text/plain": [
       "             Survived  Pclass  \\\n",
       "PassengerId                     \n",
       "863                 1       1   \n",
       "224                 0       3   \n",
       "85                  1       2   \n",
       "681                 0       3   \n",
       "536                 1       2   \n",
       "...               ...     ...   \n",
       "676                 0       3   \n",
       "241                 0       3   \n",
       "231                 1       1   \n",
       "327                 0       3   \n",
       "459                 1       2   \n",
       "\n",
       "                                                          Name     Sex   Age  \\\n",
       "PassengerId                                                                    \n",
       "863          Swift, Mrs. Frederick Joel (Margaret Welles Ba...  female  48.0   \n",
       "224                                       Nenkoff, Mr. Christo    male   NaN   \n",
       "85                                         Ilett, Miss. Bertha  female  17.0   \n",
       "681                                        Peters, Miss. Katie  female   NaN   \n",
       "536                                     Hart, Miss. Eva Miriam  female   7.0   \n",
       "...                                                        ...     ...   ...   \n",
       "676                             Edvardsson, Mr. Gustaf Hjalmar    male  18.0   \n",
       "241                                      Zabour, Miss. Thamine  female   NaN   \n",
       "231               Harris, Mrs. Henry Birkhardt (Irene Wallach)  female  35.0   \n",
       "327                                  Nysveen, Mr. Johan Hansen    male  61.0   \n",
       "459                                        Toomey, Miss. Ellen  female  50.0   \n",
       "\n",
       "             SibSp  Parch        Ticket     Fare Cabin Embarked  \n",
       "PassengerId                                                      \n",
       "863              0      0         17466  25.9292   D17        S  \n",
       "224              0      0        349234   7.8958   NaN        S  \n",
       "85               0      0    SO/C 14885  10.5000   NaN        S  \n",
       "681              0      0        330935   8.1375   NaN        Q  \n",
       "536              0      2  F.C.C. 13529  26.2500   NaN        S  \n",
       "...            ...    ...           ...      ...   ...      ...  \n",
       "676              0      0        349912   7.7750   NaN        S  \n",
       "241              1      0          2665  14.4542   NaN        C  \n",
       "231              1      0         36973  83.4750   C83        S  \n",
       "327              0      0        345364   6.2375   NaN        S  \n",
       "459              0      0  F.C.C. 13531  10.5000   NaN        S  \n",
       "\n",
       "[624 rows x 11 columns]"
      ]
     },
     "execution_count": 20,
     "metadata": {},
     "output_type": "execute_result"
    }
   ],
   "source": [
    "train = data.sample(frac=0.7,random_state=1)\n",
    "test = data.drop(train.index)\n",
    "train"
   ]
  },
  {
   "cell_type": "markdown",
   "metadata": {},
   "source": [
    "Из каждой части оставим несколько признаков, с которыми мы будем работать, а также отдельно &mdash; целевой признак. Примените к обеим частям таблицы функцию ниже"
   ]
  },
  {
   "cell_type": "code",
   "execution_count": 21,
   "metadata": {},
   "outputs": [],
   "source": [
    "features_columns = ['Pclass', 'Sex', 'Age', 'SibSp', 'Parch', 'Fare']\n",
    "target_column = 'Survived'  # Целевой признак\n",
    "\n",
    "def get_features_and_target(data):\n",
    "    features = data[features_columns]\n",
    "    target = data[target_column]\n",
    "    return features, target"
   ]
  },
  {
   "cell_type": "code",
   "execution_count": 22,
   "metadata": {},
   "outputs": [
    {
     "data": {
      "text/plain": [
       "(             Pclass     Sex   Age  SibSp  Parch     Fare\n",
       " PassengerId                                             \n",
       " 8                 3    male   2.0      3      1  21.0750\n",
       " 11                3  female   4.0      1      1  16.7000\n",
       " 16                2  female  55.0      0      0  16.0000\n",
       " 21                2    male  35.0      0      0  26.0000\n",
       " 22                2    male  34.0      0      0  13.0000\n",
       " ...             ...     ...   ...    ...    ...      ...\n",
       " 873               1    male  33.0      0      0   5.0000\n",
       " 880               1  female  56.0      0      1  83.1583\n",
       " 881               2  female  25.0      0      1  26.0000\n",
       " 887               2    male  27.0      0      0  13.0000\n",
       " 890               1    male  26.0      0      0  30.0000\n",
       " \n",
       " [267 rows x 6 columns],\n",
       " PassengerId\n",
       " 8      0\n",
       " 11     1\n",
       " 16     1\n",
       " 21     0\n",
       " 22     1\n",
       "       ..\n",
       " 873    0\n",
       " 880    1\n",
       " 881    1\n",
       " 887    0\n",
       " 890    1\n",
       " Name: Survived, Length: 267, dtype: int64)"
      ]
     },
     "execution_count": 22,
     "metadata": {},
     "output_type": "execute_result"
    }
   ],
   "source": [
    "get_features_and_target(train)\n",
    "get_features_and_target(test)"
   ]
  },
  {
   "cell_type": "markdown",
   "metadata": {},
   "source": [
    "#### 2. Исследование\n",
    "\n",
    "**Внимание.** Эта часть задачи должна выполняться *исключительно на обучающих данных*. За использование тестовых данных решение не будет оценено.\n",
    "\n",
    "Проведите визуальный анализ данных чтобы понять, как различные признаки влияют на целевой. Исследовать можно не целиком обучающие данные, а разделить их на две части по одному из признаков, а далее рассматривать каждую часть отдельно. \n",
    "\n",
    "*Не забывайте про информативность и эстетичность графиков.*"
   ]
  },
  {
   "cell_type": "code",
   "execution_count": 45,
   "metadata": {},
   "outputs": [
    {
     "data": {
      "image/png": "[encoded data removed]",
      "text/plain": [
       "<Figure size 648x648 with 1 Axes>"
      ]
     },
     "metadata": {},
     "output_type": "display_data"
    }
   ],
   "source": [
    "with sns.axes_style('whitegrid'):\n",
    "    plt.figure(figsize=(9, 9))\n",
    "    sns.histplot(data=train, x='Pclass', hue='Survived', bins=3)"
   ]
  },
  {
   "cell_type": "code",
   "execution_count": 35,
   "metadata": {},
   "outputs": [
    {
     "data": {
      "image/png": "[encoded data removed]",
      "text/plain": [
       "<Figure size 648x648 with 1 Axes>"
      ]
     },
     "metadata": {},
     "output_type": "display_data"
    }
   ],
   "source": [
    "with sns.axes_style('whitegrid'):\n",
    "    plt.figure(figsize=(9, 9))\n",
    "    sns.histplot(data=data, x='Sex', hue='Survived')"
   ]
  },
  {
   "cell_type": "code",
   "execution_count": 36,
   "metadata": {},
   "outputs": [
    {
     "data": {
      "image/png": "[encoded data removed]",
      "text/plain": [
       "<Figure size 648x648 with 1 Axes>"
      ]
     },
     "metadata": {},
     "output_type": "display_data"
    }
   ],
   "source": [
    "with sns.axes_style('whitegrid'):\n",
    "    plt.figure(figsize=(9, 9))\n",
    "    sns.histplot(data=data, x='Age', hue='Survived')"
   ]
  },
  {
   "cell_type": "code",
   "execution_count": 46,
   "metadata": {},
   "outputs": [
    {
     "data": {
      "image/png": "[encoded data removed]",
      "text/plain": [
       "<Figure size 648x648 with 1 Axes>"
      ]
     },
     "metadata": {},
     "output_type": "display_data"
    }
   ],
   "source": [
    "with sns.axes_style('whitegrid'):\n",
    "    plt.figure(figsize=(9, 9))\n",
    "    sns.histplot(data=data, x='SibSp', hue='Survived', bins=8)"
   ]
  },
  {
   "cell_type": "code",
   "execution_count": 48,
   "metadata": {},
   "outputs": [
    {
     "data": {
      "image/png": "[encoded data removed]",
      "text/plain": [
       "<Figure size 648x648 with 1 Axes>"
      ]
     },
     "metadata": {},
     "output_type": "display_data"
    }
   ],
   "source": [
    "with sns.axes_style('whitegrid'):\n",
    "    plt.figure(figsize=(9, 9))\n",
    "    sns.histplot(data=data, x='SibSp', hue='Survived', bins=8)\n",
    "    plt.ylim((0,50))"
   ]
  },
  {
   "cell_type": "code",
   "execution_count": 51,
   "metadata": {},
   "outputs": [
    {
     "data": {
      "image/png": "[encoded data removed]",
      "text/plain": [
       "<Figure size 648x648 with 1 Axes>"
      ]
     },
     "metadata": {},
     "output_type": "display_data"
    }
   ],
   "source": [
    "with sns.axes_style('whitegrid'):\n",
    "    plt.figure(figsize=(9, 9))\n",
    "    sns.histplot(data=data, x='Parch', hue='Survived')"
   ]
  },
  {
   "cell_type": "code",
   "execution_count": 55,
   "metadata": {},
   "outputs": [
    {
     "data": {
      "image/png": "[encoded data removed]",
      "text/plain": [
       "<Figure size 648x648 with 1 Axes>"
      ]
     },
     "metadata": {},
     "output_type": "display_data"
    }
   ],
   "source": [
    "with sns.axes_style('whitegrid'):\n",
    "    plt.figure(figsize=(9, 9))\n",
    "    sns.histplot(data=data, x='Parch', hue='Survived')\n",
    "    plt.ylim((0,10))"
   ]
  },
  {
   "cell_type": "code",
   "execution_count": 57,
   "metadata": {},
   "outputs": [
    {
     "data": {
      "image/png": "[encoded data removed]",
      "text/plain": [
       "<Figure size 648x648 with 1 Axes>"
      ]
     },
     "metadata": {},
     "output_type": "display_data"
    }
   ],
   "source": [
    "with sns.axes_style('whitegrid'):\n",
    "    plt.figure(figsize=(9, 9))\n",
    "    sns.histplot(data=data, x='Fare', hue='Survived')\n",
    "    plt.ylim((0, 75))"
   ]
  },
  {
   "cell_type": "code",
   "execution_count": 59,
   "metadata": {},
   "outputs": [
    {
     "data": {
      "image/png": "[encoded data removed]",
      "text/plain": [
       "<Figure size 648x648 with 1 Axes>"
      ]
     },
     "metadata": {},
     "output_type": "display_data"
    }
   ],
   "source": [
    "with sns.axes_style('whitegrid'):\n",
    "    plt.figure(figsize=(9, 9))\n",
    "    sns.histplot(data=data, x='Fare', hue='Survived')\n",
    "    plt.ylim((0, 10))"
   ]
  },
  {
   "cell_type": "markdown",
   "metadata": {},
   "source": [
    "#### 3. Классификация\n",
    "\n",
    "На основе проведенного исследования предложите два разных правила в виде решающего дерева, пример которого можете посмотреть в презентации с первой лекции (классификация котиков).\n",
    "\n",
    "В данной задаче достаточно, если первое дерево будет иметь максимальную глубину 2, а второе &mdash; глубину 1, и при этом не является поддеревом первого. *Примечание*: дерево из одного листа имеет глубину 0.\n",
    "\n",
    "**Дерево 1:**\n",
    "\n",
    "...\n",
    "\n",
    "**Дерево 2:**\n",
    "\n",
    "...\n",
    "\n",
    "Реализуйте полученные деревья по шаблону"
   ]
  },
  {
   "cell_type": "code",
   "execution_count": null,
   "metadata": {},
   "outputs": [],
   "source": [
    "def tree(features):\n",
    "    '''\n",
    "    Предсказание целевого признака для данных features -- pandas-таблица данных.\n",
    "    Возвращает pandas.Series с теми же индексами, что и у features.\n",
    "    '''\n",
    "    \n",
    "    ...\n",
    "    return predicted"
   ]
  },
  {
   "cell_type": "markdown",
   "metadata": {},
   "source": [
    "#### 4. Качество\n",
    "\n",
    "Вспомним, что у нас имеется тестовая часть выборки. Самое время ее использовать для того, чтобы оценить, насколько хорошими получились деревья. Предложите какой-нибудь критерий качества.\n",
    "\n",
    "*Замечание*. Не стоит пытаться искать, какие критерии существуют. В данном случае легко предложить адекватный критерий. Стандартные критерии мы разберем позже, но для начала лучше подумать самостоятельно.\n",
    "\n",
    "**Критерий:**\n",
    "\n",
    "...\n",
    "\n",
    "Реализуйте данный критерий по шаблону"
   ]
  },
  {
   "cell_type": "code",
   "execution_count": 1,
   "metadata": {
    "ExecuteTime": {
     "end_time": "2022-02-16T08:17:38.593742Z",
     "start_time": "2022-02-16T08:17:38.589775Z"
    }
   },
   "outputs": [],
   "source": [
    "def criteria(target, predicted):\n",
    "    '''\n",
    "    Вычисление критерия качества для предсказания predicted, \n",
    "    если истинные значения -- target.\n",
    "    Возвращает одно вещественное число.\n",
    "    '''\n",
    "    \n",
    "    ..."
   ]
  },
  {
   "cell_type": "markdown",
   "metadata": {},
   "source": [
    "Посчитайте качество полученных ранее деревьев\n",
    "\n",
    "*Примечание.* Полученные значения не влияют на оценку по задание. Оценивается только корректность и обоснованность решения, а также графики и выводы."
   ]
  },
  {
   "cell_type": "code",
   "execution_count": null,
   "metadata": {},
   "outputs": [],
   "source": []
  },
  {
   "cell_type": "markdown",
   "metadata": {},
   "source": [
    "#### 5. Выводы"
   ]
  },
  {
   "cell_type": "markdown",
   "metadata": {},
   "source": [
    "..."
   ]
  },
  {
   "cell_type": "markdown",
   "metadata": {},
   "source": [
    "\n",
    "---\n",
    "### <font color=\"orange\"><i>Сложная часть</i></font>"
   ]
  },
  {
   "cell_type": "markdown",
   "metadata": {},
   "source": [
    "### Задача 2"
   ]
  },
  {
   "attachments": {
    "Yelp_Logo_No_Outline_Color.jpg": {
     "image/jpeg": "[encoded data removed]"
    }
   },
   "cell_type": "markdown",
   "metadata": {},
   "source": [
    "<a target=\"_blank\" href=\"yelp.com\">Yelp</a> — веб-сайт для поиска на местном рынке услуг, например ресторанов или парикмахерских, с возможностью добавлять и просматривать рейтинги и обзоры этих услуг. Для популярных бизнесов имеются сотни обзоров. Для обозревателей на сайте предусмотрены элементы социальной сети.\n",
    "\n",
    "![Yelp_Logo_No_Outline_Color.jpg](attachment:Yelp_Logo_No_Outline_Color.jpg)\n",
    "\n",
    "_____________\n",
    "\n",
    "Вам предоставляется следующая информация о компаниях на Yelp:\n",
    "\n",
    "Файл `yelp_business.csv`:\n",
    "* `business_id` — уникальный идентификатор компании;\n",
    "* `name` — имя компании;\n",
    "* `address`, `city`, `state` — месторасположении компании;\n",
    "* `latitude`, `longitude` — географические координаты;\n",
    "* `categories` — категории услуг компании.\n",
    "\n",
    "Файл `yelp_review.csv`, содержащий оценки пользователей:\n",
    "* `business_id` — идентификатор компании, соответствующий файлу `yelp_business.csv`;\n",
    "* `stars` — поставленная пользователем оценка от 1 до 5.\n",
    "\n",
    "В целях сокращения объема файла, текстовые отзывы пользователей не были включены.\n",
    "\n",
    "Оригинальную версию датасета в формате `json` можно посмотреть по <a target=\"_blank\" href=\"https://www.kaggle.com/yelp-dataset/yelp-dataset/data\">ссылке</a>.\n",
    "\n",
    "_____________\n",
    "\n",
    "**Что нужно сделать:** \n",
    "\n",
    "* Найти город с наибольшим количеством компаний;\n",
    "* Для этого города определить районы с наиболее качественными услугами. <a target=\"_blank\" href=\"https://yandex.ru/company/researches/2017/msk_mobile_map\">Пример</a> с несколько другой задачей.\n",
    "* А также найти рестораны с наилучшими отзывами.\n",
    "\n",
    "------"
   ]
  },
  {
   "cell_type": "markdown",
   "metadata": {},
   "source": [
    "#### Город с наибольшим количеством компаний\n",
    "\n",
    "Загрузите данные из файла `yelp_business.csv` с помощью функции `pd.read_csv`. Посмотрите на первые несколько строк с помощью метода `head`."
   ]
  },
  {
   "cell_type": "code",
   "execution_count": null,
   "metadata": {},
   "outputs": [],
   "source": [
    "..."
   ]
  },
  {
   "cell_type": "markdown",
   "metadata": {},
   "source": [
    "Найдите пять городов, по которым присутствует информация о наибольшем количестве компаний. В таблице должен быть указан город (название) и количество компаний в этом городе.\n",
    "\n",
    "*Подсказка.* Для выполнения стоит воспользоваться методами `groupby`, `count`, `sort_values`, `head`."
   ]
  },
  {
   "cell_type": "code",
   "execution_count": null,
   "metadata": {},
   "outputs": [],
   "source": [
    "..."
   ]
  },
  {
   "cell_type": "markdown",
   "metadata": {},
   "source": [
    "Пусть `N` &mdash; город с наибольшим количеством компаний. Оставьте в таблице только записи, соответствующие городу `N`. Нанесите все эти компании на график, в котором по оси $x$ отметьте долготу, а по оси $y$ &mdash; широту."
   ]
  },
  {
   "cell_type": "code",
   "execution_count": null,
   "metadata": {},
   "outputs": [],
   "source": [
    "..."
   ]
  },
  {
   "cell_type": "markdown",
   "metadata": {},
   "source": [
    "Сам город находится в сгустке точек. Есть какие-то компании, которые приписаны к этому городу, но находятся далеко от него. Избавьтесь от них, подобрав некоторые границы значений широты и долготы. Изобразите все компании на новом графике. \n",
    "\n",
    "На этом графике должны выделяться некоторые улицы. Откройте карту города `N` и сравните ее с построенным графиком.\n",
    "\n",
    "*Замечание. Подгружать карту города в качестве фона графика мы научимся чуть позже.*"
   ]
  },
  {
   "cell_type": "code",
   "execution_count": null,
   "metadata": {},
   "outputs": [],
   "source": [
    "..."
   ]
  },
  {
   "cell_type": "markdown",
   "metadata": {},
   "source": [
    "#### Оценки компаний\n",
    "\n",
    "Для выполнения задания нужно посчитать среднюю оценку каждой компании, а также количество выставленных оценок.\n",
    "\n",
    "Загрузите таблицу оценок `yelp_review.csv`."
   ]
  },
  {
   "cell_type": "code",
   "execution_count": null,
   "metadata": {},
   "outputs": [],
   "source": [
    "..."
   ]
  },
  {
   "cell_type": "markdown",
   "metadata": {},
   "source": [
    "В подгруженной таблице оценок оставьте только компании города `N`. Для этого установите значения `business_id` в качестве индекса у таблицы оценок и воспользуйтесь методом `loc`. \n",
    "\n",
    "*Подсказка.* Чтобы индекс снова сделать полем таблицы, можно воспользоваться методом `reset_index`."
   ]
  },
  {
   "cell_type": "code",
   "execution_count": null,
   "metadata": {},
   "outputs": [],
   "source": [
    "..."
   ]
  },
  {
   "cell_type": "markdown",
   "metadata": {},
   "source": [
    "Теперь посчитайте среднюю оценку каждой компании, а также количество выставленных компании оценок. \n",
    "\n",
    "*Подсказка.* Помочь в этом могут функции `groupby` и `aggregate([np.mean, np.size])`."
   ]
  },
  {
   "cell_type": "code",
   "execution_count": null,
   "metadata": {},
   "outputs": [],
   "source": [
    "..."
   ]
  },
  {
   "cell_type": "markdown",
   "metadata": {},
   "source": [
    "Назовите колонки таблицы красивыми именами, изменив `<имя таблицы>.columns`, после чего напечатайте несколько строк полученной таблицы. Красивые имена &mdash; то, что будет понятно простому человеку при чтении ваших результатов. Как именно их назвать &mdash; задача аналитика, то есть в данном случае ваша :)"
   ]
  },
  {
   "cell_type": "code",
   "execution_count": null,
   "metadata": {},
   "outputs": [],
   "source": [
    "..."
   ]
  },
  {
   "cell_type": "markdown",
   "metadata": {},
   "source": [
    "Соедините две полученные ранее таблицы по компаниям города `N` в одну.\n",
    "Для этого сначала установите поле `business_id` в качестве индекса в обеих таблицах с помощью `set_index`. В одной из них это уже должно было быть сделано.\n",
    "В полученной таблице должны получится поля `latitude`, `longitude`, `categories`, `name`, `stars`, `count`.\n",
    "\n",
    "*Подсказка.* Соединение таблиц можно выполнить с помощью `join`.\n",
    "Индексы у этих таблиц одинаковые, так что тип джойна не имеет значения."
   ]
  },
  {
   "cell_type": "code",
   "execution_count": null,
   "metadata": {},
   "outputs": [],
   "source": [
    "..."
   ]
  },
  {
   "cell_type": "markdown",
   "metadata": {},
   "source": [
    "Изобразите все компании на графике, раскрасив точку в цвет, оттенок которого соответствует средней оценке компании. Прозрачность точки выставляйте не более $0.3$."
   ]
  },
  {
   "cell_type": "code",
   "execution_count": null,
   "metadata": {},
   "outputs": [],
   "source": [
    "..."
   ]
  },
  {
   "cell_type": "markdown",
   "metadata": {},
   "source": [
    "Чтобы получить районы города, то есть разделить город на \"клетки\", округлите значения широты и долготы, подобрав оптимальный размер района. \n",
    "\n",
    "*Подсказка.* Например, можно сделать так\n",
    "`np.round(долгота*4, decimals=1)*0.25`."
   ]
  },
  {
   "cell_type": "code",
   "execution_count": null,
   "metadata": {},
   "outputs": [],
   "source": [
    "..."
   ]
  },
  {
   "cell_type": "markdown",
   "metadata": {},
   "source": [
    "Для получения средней оценки компании по району постройте сводную таблицу при помощи `pd.pivot_table`, взяв в качестве индексов и колонок округленные широту и долготу, а в качестве значений &mdash; оценки. Аггрегирующей функцией является среднее.\n",
    "\n",
    "Изобразите полученную таблицу при помощи `sns.heatmap`."
   ]
  },
  {
   "cell_type": "code",
   "execution_count": null,
   "metadata": {},
   "outputs": [],
   "source": [
    "..."
   ]
  },
  {
   "cell_type": "markdown",
   "metadata": {},
   "source": [
    "Полученный график имеет ряд недостатков. Во-первых, не очень правильно судить о районе, если в нем мало компаний. Во-вторых,  на графике цветовая гамма автоматически подстроилась под минимальное и максимальное значения оценки.\n",
    "\n",
    "Почему эти недостатки могут быть существенными?\n",
    "\n",
    "**Ответ:** <...>"
   ]
  },
  {
   "cell_type": "markdown",
   "metadata": {},
   "source": [
    "Оставьте районы, в которых имеется информация о не менее $30$ компаний. Постройте новый график районов, использовав параметры `vmin` и `vmax` у функции `sns.heatmap`."
   ]
  },
  {
   "cell_type": "code",
   "execution_count": null,
   "metadata": {},
   "outputs": [],
   "source": [
    "..."
   ]
  },
  {
   "cell_type": "markdown",
   "metadata": {},
   "source": [
    "Сравните полученный график с предыдущим и сделайте вывод.\n",
    "\n",
    "**Вывод:** <...>"
   ]
  },
  {
   "cell_type": "markdown",
   "metadata": {},
   "source": [
    "#### Рестораны\n",
    "\n",
    "Будем считать компанию рестораном, если в поле `categories` *содержится* слово `restaurant`. Обратите внимание, что в анализе данных часто нет четкого формата данных. Например, данное слово может быть написано как с большой буквы, так и с маленькой; может как разделяться `;`, так и не разделяться. При возникновении недопонимания стоит посмотреть данные.\n",
    "\n",
    "Составьте таблицу, в которой будет информация о всех ресторанах города `N`, для которых имеется не менее $5$ отзывов. Далее постройте heatmap-график районов, в котором каждому району сопоставьте среднюю оценку по ресторанам этого района. Рассматривайте только те районы, в которых есть не менее $10$ ресторанов, для каждого из которых есть не менее $5$ отзывов."
   ]
  },
  {
   "cell_type": "code",
   "execution_count": null,
   "metadata": {},
   "outputs": [],
   "source": [
    "..."
   ]
  },
  {
   "cell_type": "markdown",
   "metadata": {},
   "source": [
    "Чем полезны ограничения снизу на количество отзывов для ресторана и количество ресторанов в районе?\n",
    "\n",
    "**Ответ:** <...>"
   ]
  },
  {
   "cell_type": "markdown",
   "metadata": {},
   "source": [
    "Кот Василий из города `N` очень придирчив к выбору ресторана. Он доверяет только ресторанам с высоким рейтингом, который основывается на большом количестве отзывов. Напечатайте в виде таблицы информацию $10$ ресторанах с самым большим рейтингом в порядке убывания рейтинга. Для каждого из этих ресторанов должно быть не менее $50$ отзывов. По каждому ресторану необходимо вывести следующую информации: название ресторана, средняя оценка, количество отзывов, географические координаты, категории."
   ]
  },
  {
   "cell_type": "code",
   "execution_count": null,
   "metadata": {},
   "outputs": [],
   "source": [
    "..."
   ]
  },
  {
   "cell_type": "markdown",
   "metadata": {},
   "source": [
    "Нанесите на карту все рестораны со средней оценкой не менее $4.7$, которая посчитана по не менее $50$ отзывам. Отдельным цветом отметьте 10 ресторанов, которые вы получили ранее."
   ]
  },
  {
   "cell_type": "code",
   "execution_count": null,
   "metadata": {},
   "outputs": [],
   "source": [
    "..."
   ]
  },
  {
   "cell_type": "markdown",
   "metadata": {},
   "source": [
    "Охарактеризуйте кота Василия, а также сделайте общий вывод по задаче.\n",
    "\n",
    "**Вывод:** <...>"
   ]
  },
  {
   "cell_type": "markdown",
   "metadata": {
    "id": "rA8jNWguSPSM"
   },
   "source": [
    "---\n",
    "### Задача 3.\n",
    "\n",
    "В данной задаче вам предстоит распарсить сайт, который вы выберите.\n",
    "\n",
    "**1.** Каждая ссылка (URL) в интернете состоит из нескольких компонент:\n",
    "\n",
    "* схема, *например, `http` или `https`*,\n",
    "* хост, *наример, `en.wikipedia.org`*\n",
    "* путь, по которому находится информация,\n",
    "* параметры,\n",
    "* якорь &mdash; указание фрагмента страницы."
   ]
  },
  {
   "cell_type": "markdown",
   "metadata": {
    "id": "JHJGEWu4SPSN"
   },
   "source": [
    "![url_parts.png](data:image/png;base64,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)"
   ]
  },
  {
   "cell_type": "markdown",
   "metadata": {
    "id": "yLuIXPezSPSV"
   },
   "source": [
    "Одна и та же ссылка может иметь несколько форм и вести на ту же самую страницу. Во время обхода сайта это надо учитывать и сохранять один уникальный урл для каждой страницы. Процедура, приводящая урл к каноничному виду, называется нормализацией.\n",
    "Процедуры, которые применяются к урлу для нормализации, описаны, например, на <a target=\"_blank\" href=\"https://ru.wikipedia.org/wiki/%D0%9D%D0%BE%D1%80%D0%BC%D0%B0%D0%BB%D0%B8%D0%B7%D0%B0%D1%86%D0%B8%D1%8F_URL\">Википедии</a>.\n",
    "\n",
    "Установите пакет `url_normalize`, в котором есть готовая функция для нормализации."
   ]
  },
  {
   "cell_type": "raw",
   "metadata": {
    "id": "x1WMgDCoSPSX"
   },
   "source": [
    "pip install url_normalize"
   ]
  },
  {
   "cell_type": "markdown",
   "metadata": {
    "id": "RSEJtva6SPSY"
   },
   "source": [
    "Прочитайте, как именно функция `url_normalize` меняет ссылку, и приведите примеры $4$ урлов, которые нормализуются к одному и тому же. Примеры должны демонстрировать различные этапы процедуры нормализации. Одним из этих примеров может быть сам нормализованный урл."
   ]
  },
  {
   "cell_type": "code",
   "execution_count": null,
   "metadata": {
    "id": "HD1enOlrSPSY"
   },
   "outputs": [],
   "source": [
    "from url_normalize import url_normalize"
   ]
  },
  {
   "cell_type": "code",
   "execution_count": null,
   "metadata": {
    "id": "5429_vCZSPSY"
   },
   "outputs": [],
   "source": [
    "..."
   ]
  },
  {
   "cell_type": "markdown",
   "metadata": {
    "id": "aYrDnZgOSPSY"
   },
   "source": [
    "_____________\n",
    "Изучите код, в котором скачиваются страницы сайта `simple.wikipedia.org` с <a href=\"https://mipt-stats.gitlab.io/courses/ad_fivt/data_parsing.html\">занятия про парсинг данных</a> и **скопируйте его в решение данной задачи**. Код, реализующий обход в ширину с фильтрацией и нормализацией урлов, приведён в виде функции."
   ]
  },
  {
   "cell_type": "code",
   "execution_count": null,
   "metadata": {
    "id": "3RcFQtIuSPSZ"
   },
   "outputs": [],
   "source": [
    "from urllib.parse import urlparse, urldefrag, urljoin\n",
    "from urllib.request import urlopen\n",
    "from bs4 import BeautifulSoup\n",
    "from queue import Queue\n",
    "import time"
   ]
  },
  {
   "cell_type": "markdown",
   "metadata": {
    "id": "izuJ-jM9SPSZ"
   },
   "source": [
    "Код обхода в ширину:"
   ]
  },
  {
   "cell_type": "code",
   "execution_count": null,
   "metadata": {
    "id": "5mC5Mt8QSPSZ"
   },
   "outputs": [],
   "source": [
    "def load_web_pages(seed, max_downloads, filtration_function):\n",
    "    '''Обходит web-страницы в ширину и загружает информацию о них.\n",
    "    \n",
    "    Принимает:\n",
    "        seed (str) -- страница, с которой начинать обход.\n",
    "        max_downloads (int) -- максимальное число загруженных страниц.\n",
    "        filtration_function (str -> bool) -- функция, указывающая, \n",
    "            стоит ли загружать страницу. Пример: is_wiki_article.\n",
    "            \n",
    "    Возвращает:\n",
    "        pages_json (list) - список словарей с информацией о страницах.\n",
    "    '''\n",
    "    \n",
    "    # Создаём список со страницами\n",
    "    pages_json = []\n",
    "    \n",
    "    # Создаём очередь для обхода в ширину\n",
    "    q = Queue()\n",
    "    q.put(seed)\n",
    "\n",
    "    already_visited = set()\n",
    "    n_downloads = 0\n",
    "    time_start = time.time()\n",
    "\n",
    "    while not q.empty():\n",
    "        # Нормализуем урл\n",
    "        main_url = url_normalize(q.get())\n",
    "        if main_url in already_visited:\n",
    "            continue\n",
    "        already_visited.add(main_url)\n",
    "        html = download_from_the_internet(main_url)\n",
    "\n",
    "        # Извлекаем ссылки из страницы\n",
    "        children_links = extract_links_from_html(main_url, html)\n",
    "        time.sleep(1)\n",
    "\n",
    "        # Извлекаем текст страницы\n",
    "        text_info = extract_text_info_from_html(html) \n",
    "\n",
    "        # Добавляем запись в таблицу\n",
    "        text_info['url'] = main_url\n",
    "        pages_json.append(text_info)\n",
    "\n",
    "        n_downloads += 1\n",
    "        if n_downloads > max_downloads:\n",
    "            break\n",
    "\n",
    "        # Добавляем ещё не посещённые ссылки в очередь\n",
    "        for child in children_links:\n",
    "            if url_normalize(child) not in already_visited \\\n",
    "            and filtration_function(child):\n",
    "                q.put(child)\n",
    "                \n",
    "    return pages_json"
   ]
  },
  {
   "cell_type": "markdown",
   "metadata": {
    "id": "NmvhIvxqSPSa"
   },
   "source": [
    "**2.** Выберите достаточно крупный сайт, который вам интересен, а также некоторую категорию страниц в нём. Поймите, с какой страницы сайта надо начать обход, чтобы обходить сайты данной категории.\n",
    "\n",
    "*Пример: ищем статьи про Data Science на Википедии, начинаем со статьи Data Dcience*.\n",
    "\n",
    "**Укажите, что выбрали:** <...>\n",
    "\n",
    "Придумайте критерий, который по тексту из HTML-страницы будет определять, находится ли страница в определённой вами категории.\n",
    "\n",
    "*Пример: статья на Википедии про Data Science, если в ней есть слово \"data\" или термины из статистики, теории вероятностей и анализа данных*.\n",
    "\n",
    "**Опишите критерий:** <...>\n",
    "\n",
    "Начав с выбранной страницы, скачайте не менее $500$ страниц сайта. В качестве функции фильтрации возьмите функцию, которая отделяет страницы с выбранного сайта от других."
   ]
  },
  {
   "cell_type": "code",
   "execution_count": null,
   "metadata": {
    "id": "Ny_bHaM2SPSa"
   },
   "outputs": [],
   "source": [
    "..."
   ]
  },
  {
   "cell_type": "markdown",
   "metadata": {
    "id": "CRTS3n7SSPSa"
   },
   "source": [
    "Cделайте `pandas`-таблицу со следующей информацией:\n",
    "\n",
    "* количество слов в тексте статьи;\n",
    "* принадлежит ли страница выбранной категории.\n",
    "\n",
    "Для последнего пункта можете воспользоваться функцией поиска слов по заданным префиксам, рассмотренной на <a href=\"https://mipt-stats.gitlab.io/courses/ad_fivt/data_parsing.html\">занятии</a>."
   ]
  },
  {
   "cell_type": "code",
   "execution_count": null,
   "metadata": {
    "id": "86jEvSSbSPSa"
   },
   "outputs": [],
   "source": [
    "..."
   ]
  },
  {
   "cell_type": "markdown",
   "metadata": {
    "id": "RVBT7vf1SPSb"
   },
   "source": [
    "Определите, какой процент скачанных страниц принадлежит выбранной категории?"
   ]
  },
  {
   "cell_type": "code",
   "execution_count": null,
   "metadata": {
    "id": "JcSREDuRSPSb"
   },
   "outputs": [],
   "source": [
    "..."
   ]
  },
  {
   "cell_type": "markdown",
   "metadata": {
    "id": "Kb9VYr_RSPSb"
   },
   "source": [
    "C помощью гистограмм сравните визуально распределения количества слов в статьях из выбранной категории и во всех остальных. Для этих двух распределений вычислите средние, медианы и дисперсии. Средние и медианы отобразите на графиках с гистограммами. Сделайте выводы."
   ]
  },
  {
   "cell_type": "code",
   "execution_count": null,
   "metadata": {
    "id": "ESSLuUFxSPSb"
   },
   "outputs": [],
   "source": [
    "..."
   ]
  },
  {
   "cell_type": "markdown",
   "metadata": {
    "id": "ten-hEvMSPSb"
   },
   "source": [
    "Постройте boxplot-графики для того, чтобы сравнить эти 2 распределения. Какой способ сравнения кажется вам более удобным?"
   ]
  },
  {
   "cell_type": "code",
   "execution_count": null,
   "metadata": {
    "id": "6MAL_YBhSPSb"
   },
   "outputs": [],
   "source": [
    "..."
   ]
  },
  {
   "cell_type": "markdown",
   "metadata": {
    "id": "E075Q2TeSPSc"
   },
   "source": [
    "**3.** Визуализируйте скачанные страницы сайта. В качестве значений по осям возьмите количество слов на странице и количество ссылок на ней. Цветом обозначьте принадлежность выбранной вами категории. "
   ]
  },
  {
   "cell_type": "code",
   "execution_count": null,
   "metadata": {
    "id": "zFLdpeNxSPSc"
   },
   "outputs": [],
   "source": [
    "..."
   ]
  },
  {
   "cell_type": "markdown",
   "metadata": {
    "id": "ZEbXPI9XSPSc"
   },
   "source": [
    "**4.** Предложите функцию фильтрации web-страниц, которую нужно подать в `load_web_pages`, чтобы среди скачанных сайтов был больше процент страниц из выбранной вами категории."
   ]
  },
  {
   "cell_type": "code",
   "execution_count": null,
   "metadata": {
    "id": "rmq1nzqjSPSc"
   },
   "outputs": [],
   "source": [
    "..."
   ]
  },
  {
   "cell_type": "markdown",
   "metadata": {
    "id": "U4RICuIBSPSd"
   },
   "source": [
    "Скачайте снова не менее $500$ страниц, но уже с новой функцией фильтрации. Добавьте следующую информацию к каждой странице:\n",
    "\n",
    "* глубина в обходе,\n",
    "* время скачивания страницы.\n",
    "\n",
    "Для замера времени можете воспользоваться функцией `time` из пакета `time`."
   ]
  },
  {
   "cell_type": "code",
   "execution_count": null,
   "metadata": {
    "id": "IqF2W0_PSPSd"
   },
   "outputs": [],
   "source": [
    "..."
   ]
  },
  {
   "cell_type": "markdown",
   "metadata": {
    "id": "-IgS4xrSSPSd"
   },
   "source": [
    "Постройте гистограмму для времени скачивания страницы."
   ]
  },
  {
   "cell_type": "code",
   "execution_count": null,
   "metadata": {
    "id": "swnPjXbESPSd"
   },
   "outputs": [],
   "source": [
    "..."
   ]
  },
  {
   "cell_type": "markdown",
   "metadata": {},
   "source": [
    "Предположите, каким известным вам стандартным распределением оно может быть приближено? "
   ]
  },
  {
   "cell_type": "code",
   "execution_count": null,
   "metadata": {},
   "outputs": [],
   "source": [
    "..."
   ]
  },
  {
   "cell_type": "markdown",
   "metadata": {},
   "source": [
    "**Выводы:** <...>"
   ]
  }
 ],
 "metadata": {
  "colab": {
   "collapsed_sections": [],
   "name": "stats.ipynb",
   "provenance": [],
   "version": "0.3.2"
  },
  "kernelspec": {
   "display_name": "Python 3 (ipykernel)",
   "language": "python",
   "name": "python3"
  },
  "language_info": {
   "codemirror_mode": {
    "name": "ipython",
    "version": 3
   },
   "file_extension": ".py",
   "mimetype": "text/x-python",
   "name": "python",
   "nbconvert_exporter": "python",
   "pygments_lexer": "ipython3",
   "version": "3.9.7"
  }
 },
 "nbformat": 4,
 "nbformat_minor": 1
}
